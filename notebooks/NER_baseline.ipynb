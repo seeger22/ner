{
  "nbformat": 4,
  "nbformat_minor": 0,
  "metadata": {
    "colab": {
      "name": "NER_baseline.ipynb",
      "provenance": [],
      "collapsed_sections": [],
      "toc_visible": true
    },
    "kernelspec": {
      "name": "python3",
      "display_name": "Python 3"
    },
    "accelerator": "GPU"
  },
  "cells": [
    {
      "cell_type": "markdown",
      "metadata": {
        "id": "yciqgD-4ZYrb"
      },
      "source": [
        "# Named Entity Recognition for CoNLL2003"
      ]
    },
    {
      "cell_type": "code",
      "metadata": {
        "id": "_4ftqGLaZa6f",
        "outputId": "68f36cea-d879-4c56-e51d-d93366222324",
        "colab": {
          "base_uri": "https://localhost:8080/"
        }
      },
      "source": [
        "#@title #Set up environment\n",
        "!ln -s \"/content/drive/My Drive\" /gdrive\n",
        "\n",
        "ROOT = \"/content/drive/My\\ Drive/Research/\"#@param {type:\"string\"}\n",
        "#sp_num = 5#@param {type:\"number\", min:1, max:50, step:1}\n",
        "\n",
        "%env HOME=/gdrive\n",
        "%cd ~/\n",
        "\n",
        "%\n",
        "\n",
        "!mkdir -p Research\n",
        "\n",
        "# clone Transformer lib\n",
        "%cd Research/\n",
        "#!git clone https://github.com/huggingface/transformers.git\n",
        "\n",
        "# clone DSTC9 official baseline\n",
        "!mkdir -p NER_CoNLL2003\n",
        "%cd NER_CoNLL2003"
      ],
      "execution_count": null,
      "outputs": [
        {
          "output_type": "stream",
          "text": [
            "env: HOME=/gdrive\n",
            "/content/drive/My Drive\n",
            "/content/drive/My Drive/Research\n",
            "/content/drive/My Drive/Research/NER_CoNLL2003\n"
          ],
          "name": "stdout"
        }
      ]
    },
    {
      "cell_type": "code",
      "metadata": {
        "id": "VGweHFNlCjUz",
        "outputId": "2e8455c3-8006-4f83-89e9-d1f9e39a3122",
        "colab": {
          "base_uri": "https://localhost:8080/"
        }
      },
      "source": [
        "!pwd\n",
        "%cd /gdrive/Research/\n",
        "%ll"
      ],
      "execution_count": null,
      "outputs": [
        {
          "output_type": "stream",
          "text": [
            "/content/drive/My Drive/Research\n",
            "/content/drive/My Drive/Research\n",
            "total 12\n",
            "drwx------  3 root 4096 Oct 29 13:49 \u001b[0m\u001b[01;34mDSTC9\u001b[0m/\n",
            "drwx------  3 root 4096 Nov  5 06:18 \u001b[01;34mNER_CoNLL2003\u001b[0m/\n",
            "drwx------ 15 root 4096 Oct 29 13:48 \u001b[01;34mtransformers\u001b[0m/\n"
          ],
          "name": "stdout"
        }
      ]
    },
    {
      "cell_type": "code",
      "metadata": {
        "id": "dhC2A4cC8Fbm",
        "outputId": "f752fe9c-a8ca-4e57-a44e-bb7231c59262",
        "colab": {
          "base_uri": "https://localhost:8080/"
        }
      },
      "source": [
        "# List the directories\n",
        "#!ls -l ../\n",
        "\n",
        "# check which directory we are in\n",
        "!pwd\n",
        "\n",
        "# copy a directory\n",
        "%cp -r NER_CoNLL2003 tmp_dir"
      ],
      "execution_count": null,
      "outputs": [
        {
          "output_type": "stream",
          "text": [
            "/content/drive/My Drive/Research\n"
          ],
          "name": "stdout"
        }
      ]
    },
    {
      "cell_type": "code",
      "metadata": {
        "id": "-UgvbnhJEEWi",
        "outputId": "e1428ace-11e3-42ec-e468-d5772915fed6",
        "colab": {
          "base_uri": "https://localhost:8080/"
        }
      },
      "source": [
        "# copy a file\n",
        "#%cd NER_CoNLL2003\n",
        "%ll\n",
        "%cp ner.tgz ner1.tgz\n",
        "%ll"
      ],
      "execution_count": null,
      "outputs": [
        {
          "output_type": "stream",
          "text": [
            "total 6751\n",
            "drwx------ 8 root    4096 Nov  5 05:57 \u001b[0m\u001b[01;34mner\u001b[0m/\n",
            "-rw------- 1 root 3454112 Nov  5 06:21 ner1.tgz\n",
            "-rw------- 1 root 3454112 Nov  1  2017 ner.tgz\n",
            "total 6751\n",
            "drwx------ 8 root    4096 Nov  5 05:57 \u001b[0m\u001b[01;34mner\u001b[0m/\n",
            "-rw------- 1 root 3454112 Nov  5 06:21 ner1.tgz\n",
            "-rw------- 1 root 3454112 Nov  1  2017 ner.tgz\n"
          ],
          "name": "stdout"
        }
      ]
    },
    {
      "cell_type": "code",
      "metadata": {
        "id": "aFh4mYUl69YS",
        "outputId": "8509def1-5acd-409a-c8cb-aa65a04dcb19",
        "colab": {
          "base_uri": "https://localhost:8080/"
        }
      },
      "source": [
        "# download training data into the current directory in Google drive (Just need to run once)\n",
        "\n",
        "!wget https://www.clips.uantwerpen.be/conll2003/ner.tgz\n",
        "!tar zxvf ner.tgz"
      ],
      "execution_count": null,
      "outputs": [
        {
          "output_type": "stream",
          "text": [
            "--2020-11-05 05:48:46--  https://www.clips.uantwerpen.be/conll2003/ner.tgz\n",
            "Resolving www.clips.uantwerpen.be (www.clips.uantwerpen.be)... 146.175.13.81\n",
            "Connecting to www.clips.uantwerpen.be (www.clips.uantwerpen.be)|146.175.13.81|:443... connected.\n",
            "HTTP request sent, awaiting response... 200 OK\n",
            "Length: 3454112 (3.3M) [application/x-gzip]\n",
            "Saving to: ‘ner.tgz’\n",
            "\n",
            "ner.tgz             100%[===================>]   3.29M  3.94MB/s    in 0.8s    \n",
            "\n",
            "2020-11-05 05:48:48 (3.94 MB/s) - ‘ner.tgz’ saved [3454112/3454112]\n",
            "\n",
            "ner/\n",
            "ner/index.html\n",
            "ner/bin/\n",
            "ner/bin/chrep\n",
            "ner/bin/tokenize.eng\n",
            "ner/bin/make.eng.org\n",
            "ner/bin/make.eng\n",
            "ner/bin/make.deu.raw\n",
            "ner/bin/baseline\n",
            "ner/bin/OldFiles/\n",
            "ner/bin/OldFiles/conlleval.20171101:16:10:25\n",
            "ner/bin/htmlize\n",
            "ner/bin/xml2txt.eng.org\n",
            "ner/bin/tokenize.deu.raw\n",
            "ner/bin/make.eng.2016\n",
            "ner/bin/000README\n",
            "ner/bin/sbreaks\n",
            "ner/bin/conlleval\n",
            "ner/bin/make.eng.raw.2016\n",
            "ner/bin/tokenize.deu\n",
            "ner/bin/revealLemmas\n",
            "ner/bin/make.deu\n",
            "ner/bin/make.eng.raw\n",
            "ner/bin/removeJunk\n",
            "ner/bin/xml2txt.eng\n",
            "ner/acl.bst\n",
            "ner/lists/\n",
            "ner/lists/index.html\n",
            "ner/lists/ned.list.LOC\n",
            "ner/lists/ned.list.PER\n",
            "ner/lists/ned.list.ORG\n",
            "ner/lists/ned.list.MISC\n",
            "ner/lists/eng.list\n",
            "ner/lists/deu.list\n",
            "ner/OldFiles/\n",
            "ner/OldFiles/index.html\n",
            "ner/OldFiles/conlleval\n",
            "ner/guidelines.txt\n",
            "ner/etc/\n",
            "ner/etc/tags.eng.testb\n",
            "ner/etc/files.eng.testb\n",
            "ner/etc/tags.eng\n",
            "ner/etc/tags.deu\n",
            "ner/etc/files.eng\n",
            "ner/etc/files.head\n",
            "ner/000README\n",
            "ner/example.tex\n",
            "ner/example.ps\n",
            "ner/etc.2006/\n",
            "ner/etc.2006/revision.txt\n",
            "ner/etc.2006/000README\n",
            "ner/etc.2006/tags.deu\n",
            "ner/etc.2006/guide.pdf\n",
            "ner/hltnaacl03.sty\n",
            "ner/pdftex.cfg\n",
            "ner/annotation.txt\n",
            "ner/results/\n",
            "ner/results/wu/\n",
            "ner/results/wu/conlleval.out\n",
            "ner/results/wu/eng.testb.gz\n",
            "ner/results/wu/deu.testa.gz\n",
            "ner/results/wu/eng.testa.gz\n",
            "ner/results/wu/deu.testb.gz\n",
            "ner/results/mayfield/\n",
            "ner/results/mayfield/conlleval.out\n",
            "ner/results/mayfield/eng.testb\n",
            "ner/results/mayfield/deu.testb\n",
            "ner/results/mayfield/deu.testa\n",
            "ner/results/mayfield/eng.testa\n",
            "ner/results/chieu/\n",
            "ner/results/chieu/conlleval.out\n",
            "ner/results/chieu/eng.testb.gz\n",
            "ner/results/chieu/deu.testa.gz\n",
            "ner/results/chieu/eng.testa.gz\n",
            "ner/results/chieu/deu.testb.gz\n",
            "ner/results/klein.tgz\n",
            "ner/results/florian.tgz\n",
            "ner/results/curran/\n",
            "ner/results/curran/conlleval.out\n",
            "ner/results/curran/eng.testb.gz\n",
            "ner/results/curran/deu.testa.gz\n",
            "ner/results/curran/eng.testa.gz\n",
            "ner/results/curran/deu.testb.gz\n",
            "ner/results/mccallum/\n",
            "ner/results/mccallum/conlleval.out\n",
            "ner/results/mccallum/eng.testb.gz\n",
            "ner/results/mccallum/deu.testa.gz\n",
            "ner/results/mccallum/eng.testa.gz\n",
            "ner/results/mccallum/deu.testb.gz\n",
            "ner/results/carrerasa.tgz\n",
            "ner/results/curran.tgz\n",
            "ner/results/carrerasb.tgz\n",
            "ner/results/mccallum.tgz\n",
            "ner/results/hammerton/\n",
            "ner/results/hammerton/conlleval.out\n",
            "ner/results/hammerton/eng.testb.gz\n",
            "ner/results/hammerton/deu.testa.gz\n",
            "ner/results/hammerton/eng.testa.gz\n",
            "ner/results/hammerton/deu.testb.gz\n",
            "ner/results/bender.tgz\n",
            "ner/results/munro/\n",
            "ner/results/munro/conlleval.out\n",
            "ner/results/munro/eng.testb.gz\n",
            "ner/results/munro/deu.testa.gz\n",
            "ner/results/munro/eng.testa.gz\n",
            "ner/results/munro/deu.testb.gz\n",
            "ner/results/mayfield.tgz\n",
            "ner/results/carrerasb/\n",
            "ner/results/carrerasb/conlleval.out\n",
            "ner/results/carrerasb/eng.testb.gz\n",
            "ner/results/carrerasb/deu.testa.gz\n",
            "ner/results/carrerasb/eng.testa.gz\n",
            "ner/results/carrerasb/deu.testb.gz\n",
            "ner/results/demeulder.tgz\n",
            "ner/results/carrerasa/\n",
            "ner/results/carrerasa/conlleval.out\n",
            "ner/results/carrerasa/eng.testb.gz\n",
            "ner/results/carrerasa/deu.testa.gz\n",
            "ner/results/carrerasa/eng.testa.gz\n",
            "ner/results/carrerasa/deu.testb.gz\n",
            "ner/results/hendrickx/\n",
            "ner/results/hendrickx/conlleval.out\n",
            "ner/results/hendrickx/eng.testb.gz\n",
            "ner/results/hendrickx/deu.testa.gz\n",
            "ner/results/hendrickx/eng.testa.gz\n",
            "ner/results/hendrickx/deu.testb.gz\n",
            "ner/results/whitelaw.tgz\n",
            "ner/results/chieu.tgz\n",
            "ner/results/zhang/\n",
            "ner/results/zhang/conlleval.out\n",
            "ner/results/zhang/eng.testb.gz\n",
            "ner/results/zhang/deu.testa.gz\n",
            "ner/results/zhang/eng.testa.gz\n",
            "ner/results/zhang/deu.testb.gz\n",
            "ner/results/florian/\n",
            "ner/results/florian/conlleval.out\n",
            "ner/results/florian/eng.testb.gz\n",
            "ner/results/florian/deu.testa.gz\n",
            "ner/results/florian/eng.testa.gz\n",
            "ner/results/florian/deu.testb.gz\n",
            "ner/results/hendrickx.tgz\n",
            "ner/results/klein/\n",
            "ner/results/klein/conlleval.out\n",
            "ner/results/klein/eng.testb.gz\n",
            "ner/results/klein/deu.testa.gz\n",
            "ner/results/klein/eng.testa.gz\n",
            "ner/results/klein/deu.testb.gz\n",
            "ner/results/bender/\n",
            "ner/results/bender/conlleval.out\n",
            "ner/results/bender/eng.testb.gz\n",
            "ner/results/bender/deu.testa.gz\n",
            "ner/results/bender/eng.testa.gz\n",
            "ner/results/bender/deu.testb.gz\n",
            "ner/results/hammerton.tgz\n",
            "ner/results/whitelaw/\n",
            "ner/results/whitelaw/conlleval.out\n",
            "ner/results/whitelaw/eng.testb.gz\n",
            "ner/results/whitelaw/deu.testa.gz\n",
            "ner/results/whitelaw/eng.testa.gz\n",
            "ner/results/whitelaw/deu.testb.gz\n",
            "ner/results/demeulder/\n",
            "ner/results/demeulder/conlleval.out\n",
            "ner/results/demeulder/eng.testb.gz\n",
            "ner/results/demeulder/deu.testa.gz\n",
            "ner/results/demeulder/eng.testa.gz\n",
            "ner/results/demeulder/deu.testb.gz\n",
            "ner/results/zhang.tgz\n",
            "ner/results/wu.tgz\n",
            "ner/results/munro.tgz\n",
            "ner/example.pdf\n"
          ],
          "name": "stdout"
        }
      ]
    },
    {
      "cell_type": "code",
      "metadata": {
        "id": "Z_UiUm-V7fbn"
      },
      "source": [
        "from google.colab import drive\n",
        "drive.mount('/content/drive')"
      ],
      "execution_count": null,
      "outputs": []
    },
    {
      "cell_type": "code",
      "metadata": {
        "id": "aHW1Qd76rBW1",
        "outputId": "a05288d6-707d-42ba-a689-059f3c90a8f5",
        "colab": {
          "base_uri": "https://localhost:8080/"
        }
      },
      "source": [
        "import torch\n",
        "torch.cuda.is_available()"
      ],
      "execution_count": null,
      "outputs": [
        {
          "output_type": "execute_result",
          "data": {
            "text/plain": [
              "True"
            ]
          },
          "metadata": {
            "tags": []
          },
          "execution_count": 9
        }
      ]
    },
    {
      "cell_type": "code",
      "metadata": {
        "id": "F0H9jADfruqn"
      },
      "source": [
        ""
      ],
      "execution_count": null,
      "outputs": []
    },
    {
      "cell_type": "markdown",
      "metadata": {
        "id": "QCne-tP69OOS"
      },
      "source": [
        "## Load NER training data\n",
        "\n",
        "See what is the file format. See 000README in the ner/ directory."
      ]
    },
    {
      "cell_type": "code",
      "metadata": {
        "id": "8WIKXFLo9Xd2",
        "outputId": "6801c8d7-553a-4dbe-d393-b8f2c14bc14f",
        "colab": {
          "base_uri": "https://localhost:8080/"
        }
      },
      "source": [
        "%cd ner\n",
        "!bin/make.eng\n",
        "!bin/make.deu"
      ],
      "execution_count": null,
      "outputs": [
        {
          "output_type": "stream",
          "text": [
            "/content/drive/My Drive/Research/NER_CoNLL2003/ner\n",
            "cannot find Reuters Corpus cd\n",
            "cannot find ECI Multilingual Text cd\n"
          ],
          "name": "stdout"
        }
      ]
    },
    {
      "cell_type": "code",
      "metadata": {
        "id": "x0lvVOgh9upv",
        "outputId": "62a484ea-b5f9-49b9-ccba-f2469b98041c",
        "colab": {
          "base_uri": "https://localhost:8080/"
        }
      },
      "source": [
        "!unzip file.zip"
      ],
      "execution_count": null,
      "outputs": [
        {
          "output_type": "stream",
          "text": [
            "UnZip 6.00 of 20 April 2009, by Debian. Original by Info-ZIP.\n",
            "\n",
            "Usage: unzip [-Z] [-opts[modifiers]] file[.zip] [list] [-x xlist] [-d exdir]\n",
            "  Default action is to extract files in list, except those in xlist, to exdir;\n",
            "  file[.zip] may be a wildcard.  -Z => ZipInfo mode (\"unzip -Z\" for usage).\n",
            "\n",
            "  -p  extract files to pipe, no messages     -l  list files (short format)\n",
            "  -f  freshen existing files, create none    -t  test compressed archive data\n",
            "  -u  update files, create if necessary      -z  display archive comment only\n",
            "  -v  list verbosely/show version info       -T  timestamp archive to latest\n",
            "  -x  exclude files that follow (in xlist)   -d  extract files into exdir\n",
            "modifiers:\n",
            "  -n  never overwrite existing files         -q  quiet mode (-qq => quieter)\n",
            "  -o  overwrite files WITHOUT prompting      -a  auto-convert any text files\n",
            "  -j  junk paths (do not make directories)   -aa treat ALL files as text\n",
            "  -U  use escapes for all non-ASCII Unicode  -UU ignore any Unicode fields\n",
            "  -C  match filenames case-insensitively     -L  make (some) names lowercase\n",
            "  -X  restore UID/GID info                   -V  retain VMS version numbers\n",
            "  -K  keep setuid/setgid/tacky permissions   -M  pipe through \"more\" pager\n",
            "  -O CHARSET  specify a character encoding for DOS, Windows and OS/2 archives\n",
            "  -I CHARSET  specify a character encoding for UNIX and other archives\n",
            "\n",
            "See \"unzip -hh\" or unzip.txt for more help.  Examples:\n",
            "  unzip data1 -x joe   => extract all files except joe from zipfile data1.zip\n",
            "  unzip -p foo | more  => send contents of foo.zip via pipe into program more\n",
            "  unzip -fo foo ReadMe => quietly replace existing ReadMe if archive file newer\n"
          ],
          "name": "stdout"
        }
      ]
    },
    {
      "cell_type": "code",
      "metadata": {
        "id": "Jx6w_eREFPgx"
      },
      "source": [
        "# tar ball / tar.gz ball: ner.tgz\n",
        "# tar zxvf ner.tgz"
      ],
      "execution_count": null,
      "outputs": []
    },
    {
      "cell_type": "code",
      "metadata": {
        "id": "M9uNvIUCFXxF",
        "outputId": "41d36d9f-2380-4630-940a-b1a125a05c41",
        "colab": {
          "base_uri": "https://localhost:8080/"
        }
      },
      "source": [
        "# delete a file: rm\n",
        "# rm ner1.tgz\n",
        "# rm -f ner1.tgz"
      ],
      "execution_count": null,
      "outputs": [
        {
          "output_type": "stream",
          "text": [
            "ner  ner1.tgz  ner.tgz\n"
          ],
          "name": "stdout"
        }
      ]
    },
    {
      "cell_type": "code",
      "metadata": {
        "id": "Rdk3rbZ7FaRW"
      },
      "source": [
        "# tar ball\n",
        "# tar xvf ner.tar # extract a tar ball\n",
        "\n",
        "# list a tar ball\n",
        "# tar tvf ner.tar\n",
        "\n",
        "# list a tar.gz ball (gz = gzip) GNU zip to zip the file\n",
        "# tar ztvf ner.tar.gz"
      ],
      "execution_count": null,
      "outputs": []
    },
    {
      "cell_type": "code",
      "metadata": {
        "id": "64wLi_OZGY1T",
        "outputId": "320f3c21-13ab-44f5-9592-2976cb4f0b2f",
        "colab": {
          "base_uri": "https://localhost:8080/"
        }
      },
      "source": [
        "# bash shell programming (how to write a shell script)\n",
        "# run.sh\n",
        "# bash run.sh\n",
        "# if, for, while, set variables\n",
        "# sed (streamline edit), awk, cut, cat. (pipeline='|'), quick processing of data\n",
        "%ll\n",
        "%ll | awk '{print $NF}' | sed \"s/ner1/ner2/g\" > newfile.txt"
      ],
      "execution_count": null,
      "outputs": [
        {
          "output_type": "stream",
          "text": [
            "total 6751\n",
            "drwx------ 8 root    4096 Nov  5 05:57 \u001b[0m\u001b[01;34mner\u001b[0m/\n",
            "-rw------- 1 root 3454112 Nov  5 06:21 ner1.tgz\n",
            "-rw------- 1 root 3454112 Nov  1  2017 ner.tgz\n",
            "6751\n",
            "\u001b[0m\u001b[01;34mner\u001b[0m/\n",
            "ner2.tgz\n",
            "ner.tgz\n"
          ],
          "name": "stdout"
        }
      ]
    },
    {
      "cell_type": "code",
      "metadata": {
        "id": "VQZNbkGyHUQ3"
      },
      "source": [
        "import re"
      ],
      "execution_count": null,
      "outputs": []
    },
    {
      "cell_type": "code",
      "metadata": {
        "id": "DskHlPtmH7Hy"
      },
      "source": [
        ""
      ],
      "execution_count": null,
      "outputs": []
    }
  ]
}