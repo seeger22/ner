{
  "nbformat": 4,
  "nbformat_minor": 0,
  "metadata": {
    "accelerator": "GPU",
    "colab": {
      "provenance": []
    },
    "kernelspec": {
      "display_name": "Python 3",
      "name": "python3"
    },
    "language_info": {
      "name": "python"
    }
  },
  "cells": [
    {
      "cell_type": "markdown",
      "metadata": {
        "id": "Ag0BMXZwS93n"
      },
      "source": [
        "#I. Quick Setups"
      ]
    },
    {
      "cell_type": "code",
      "metadata": {
        "colab": {
          "base_uri": "https://localhost:8080/"
        },
        "id": "JTzWoDmTW5AA",
        "outputId": "4445af39-1c4a-46e0-a52b-5d340892d9ff"
      },
      "source": [
        "from google.colab import drive\n",
        "drive.mount('/content/drive')"
      ],
      "execution_count": null,
      "outputs": [
        {
          "output_type": "stream",
          "name": "stdout",
          "text": [
            "Mounted at /content/drive\n"
          ]
        }
      ]
    },
    {
      "cell_type": "code",
      "metadata": {
        "colab": {
          "base_uri": "https://localhost:8080/"
        },
        "id": "QYAXQRPN2nsv",
        "outputId": "e0a1035d-9d6d-4066-8733-525a550a5c9a"
      },
      "source": [
        "!pwd"
      ],
      "execution_count": null,
      "outputs": [
        {
          "name": "stdout",
          "output_type": "stream",
          "text": [
            "/content\n"
          ]
        }
      ]
    },
    {
      "cell_type": "code",
      "metadata": {
        "colab": {
          "base_uri": "https://localhost:8080/"
        },
        "id": "gTLC0TRySLh6",
        "outputId": "7dc15d05-91b5-44ff-afa9-311f84e7e761"
      },
      "source": [
        "gpu_info = !nvidia-smi\n",
        "gpu_info = '\\n'.join(gpu_info)\n",
        "if gpu_info.find('failed') >= 0:\n",
        "  print('Select the Runtime > \"Change runtime type\" menu to enable a GPU accelerator, ')\n",
        "  print('and then re-execute this cell.')\n",
        "else:\n",
        "  print(gpu_info)"
      ],
      "execution_count": null,
      "outputs": [
        {
          "output_type": "stream",
          "text": [
            "Sat Aug 21 19:37:52 2021       \n",
            "+-----------------------------------------------------------------------------+\n",
            "| NVIDIA-SMI 470.57.02    Driver Version: 460.32.03    CUDA Version: 11.2     |\n",
            "|-------------------------------+----------------------+----------------------+\n",
            "| GPU  Name        Persistence-M| Bus-Id        Disp.A | Volatile Uncorr. ECC |\n",
            "| Fan  Temp  Perf  Pwr:Usage/Cap|         Memory-Usage | GPU-Util  Compute M. |\n",
            "|                               |                      |               MIG M. |\n",
            "|===============================+======================+======================|\n",
            "|   0  Tesla P100-PCIE...  Off  | 00000000:00:04.0 Off |                    0 |\n",
            "| N/A   38C    P0    27W / 250W |      0MiB / 16280MiB |      0%      Default |\n",
            "|                               |                      |                  N/A |\n",
            "+-------------------------------+----------------------+----------------------+\n",
            "                                                                               \n",
            "+-----------------------------------------------------------------------------+\n",
            "| Processes:                                                                  |\n",
            "|  GPU   GI   CI        PID   Type   Process name                  GPU Memory |\n",
            "|        ID   ID                                                   Usage      |\n",
            "|=============================================================================|\n",
            "|  No running processes found                                                 |\n",
            "+-----------------------------------------------------------------------------+\n"
          ],
          "name": "stdout"
        }
      ]
    },
    {
      "cell_type": "code",
      "metadata": {
        "colab": {
          "base_uri": "https://localhost:8080/"
        },
        "id": "QzC_jfBmSYjh",
        "outputId": "5dbab88e-081c-49b0-959c-3e0b46e014cc"
      },
      "source": [
        "from psutil import virtual_memory\n",
        "ram_gb = virtual_memory().total / 1e9\n",
        "print('Your runtime has {:.1f} gigabytes of available RAM\\n'.format(ram_gb))\n",
        "\n",
        "if ram_gb < 20:\n",
        "  print('To enable a high-RAM runtime, select the Runtime > \"Change runtime type\"')\n",
        "  print('menu, and then select High-RAM in the Runtime shape dropdown. Then, ')\n",
        "  print('re-execute this cell.')\n",
        "else:\n",
        "  print('You are using a high-RAM runtime!')"
      ],
      "execution_count": null,
      "outputs": [
        {
          "name": "stdout",
          "output_type": "stream",
          "text": [
            "Your runtime has 13.6 gigabytes of available RAM\n",
            "\n",
            "To enable a high-RAM runtime, select the Runtime > \"Change runtime type\"\n",
            "menu, and then select High-RAM in the Runtime shape dropdown. Then, \n",
            "re-execute this cell.\n"
          ]
        }
      ]
    },
    {
      "cell_type": "markdown",
      "metadata": {
        "id": "IrXbzAoj71FH"
      },
      "source": [
        "#II. Prepare Data"
      ]
    },
    {
      "cell_type": "code",
      "metadata": {
        "colab": {
          "base_uri": "https://localhost:8080/"
        },
        "id": "M-rjjkiIiU73",
        "outputId": "333e8aa4-f057-4ece-8025-9ac257b7cd1f"
      },
      "source": [
        "%env HOME=/content/drive/MyDrive\n",
        "%cd ~/Research/ner/intent_classifier/final_result\n",
        "!ls -lrt"
      ],
      "execution_count": null,
      "outputs": [
        {
          "output_type": "stream",
          "name": "stdout",
          "text": [
            "env: HOME=/content/drive/MyDrive\n",
            "/content/drive/MyDrive/Research/ner/intent_classifier/final_result\n",
            "total 38716\n",
            "-rw------- 1 root root 13121130 Aug 31 22:18 kb_eval_final.json\n",
            "-rw------- 1 root root  8636219 Aug 31 22:19 updated_DSTC9_train_labels.json\n",
            "-rw------- 1 root root  1191914 Aug 31 22:19 updated_DSTC9_val_labels.json\n",
            "-rw------- 1 root root   848616 Aug 31 22:19 updated_DSTC9_excluded_eval_labels.json\n",
            "-rw------- 1 root root    76794 Aug 31 22:19 updated_DSTC10_clean_val_labels.json\n",
            "-rw------- 1 root root  1883004 Aug 31 22:20 updated_labels_wkb.zip\n",
            "-rw------- 1 root root    11998 Aug 31 22:22 intent_examples_val.json\n",
            "-rw------- 1 root root  3020592 Aug 31 22:22 intent_examples_train1.json\n",
            "-rw------- 1 root root    12071 Aug 31 22:23 intent_examples_val_clean.json\n",
            "-rw------- 1 root root   672102 Aug 31 22:23 intent_examples.zip\n",
            "-rw------- 1 root root    33326 Sep  1 00:39 V2_intent_examples_val.json\n",
            "-rw------- 1 root root  6313393 Sep  1 00:39 V2_intent_examples_train1.json\n",
            "-rw------- 1 root root  1331766 Sep  1 00:40 V2_intent_examples_train2.json\n",
            "-rw------- 1 root root  1108662 Sep  1 00:40 intent_examples_train2.json\n",
            "-rw------- 1 root root    33620 Sep  1 00:40 V2_intent_examples_val_clean.json\n",
            "-rw------- 1 root root  1345831 Sep  1 00:42 V2_intent_examples.zip\n"
          ]
        }
      ]
    },
    {
      "cell_type": "code",
      "metadata": {
        "id": "u9G1MuuPyOgY"
      },
      "source": [
        "import json\n",
        "ff = open('kb_eval_final.json','r')\n",
        "kb = json.load(ff)\n",
        "ff.close()\n",
        "dic = kb"
      ],
      "execution_count": null,
      "outputs": []
    },
    {
      "cell_type": "markdown",
      "metadata": {
        "id": "QbFDy1hdRasE"
      },
      "source": [
        "##Data wo 0 cluster"
      ]
    },
    {
      "cell_type": "code",
      "metadata": {
        "colab": {
          "base_uri": "https://localhost:8080/"
        },
        "id": "gBUMkLSmU3pF",
        "outputId": "210bc2e2-44fd-42bb-b092-f5c32b76395c"
      },
      "source": [
        "!zip intent_examples.zip intent_examples*.json"
      ],
      "execution_count": null,
      "outputs": [
        {
          "output_type": "stream",
          "name": "stdout",
          "text": [
            "updating: intent_examples_train1.json (deflated 84%)\n",
            "updating: intent_examples_train2.json (deflated 84%)\n",
            "updating: intent_examples_val_clean.json (deflated 80%)\n",
            "updating: intent_examples_val.json (deflated 78%)\n"
          ]
        }
      ]
    },
    {
      "cell_type": "code",
      "metadata": {
        "colab": {
          "base_uri": "https://localhost:8080/"
        },
        "id": "dHsJDvXgSWpe",
        "outputId": "782ddcdc-986e-4a4d-8574-977a7d470b27"
      },
      "source": [
        "#Val set, specific on DSTC10_val_log\n",
        "import json\n",
        "\n",
        "res = []\n",
        "title_map = {}\n",
        "pos_count = 0\n",
        "neg_count = 0\n",
        "\n",
        "for i in range(len(rlabels_val)):\n",
        "    curr = rlabels_val[i]\n",
        "    candidate = {}\n",
        "    candidate['sentence'] = rlog_val[i][-1]['clean_text']#or 'text'\n",
        "    if candidate['sentence'] in title_map:\n",
        "        continue\n",
        "    else:\n",
        "        title_map[candidate['sentence']] = 1\n",
        "    if curr['target'] == 1:\n",
        "        candidate['label'] = curr['knowledge'][0]['cluster_id']\n",
        "        pos_count += 1\n",
        "        res.append(candidate)\n",
        "    else:\n",
        "        candidate['label'] = 0\n",
        "        neg_count += 1\n",
        "print('Final pos# ', pos_count)\n",
        "print('Final neg# ', neg_count)\n",
        "\n",
        "out_val = open('intent_examples_val_clean.json','w')\n",
        "json.dump(res, out_val, indent = 4)\n",
        "out_val.close()"
      ],
      "execution_count": null,
      "outputs": [
        {
          "output_type": "stream",
          "name": "stdout",
          "text": [
            "Final pos#  103\n",
            "Final neg#  158\n"
          ]
        }
      ]
    },
    {
      "cell_type": "markdown",
      "metadata": {
        "id": "sxymIBRNTMat"
      },
      "source": [
        "###Exp1: train with kb titles, dstc9 train | val | excluded_eval"
      ]
    },
    {
      "cell_type": "code",
      "metadata": {
        "colab": {
          "base_uri": "https://localhost:8080/"
        },
        "id": "psL56Xo1TQ8N",
        "outputId": "5ca320f4-59fe-4b5b-cc48-e4aa005f762a"
      },
      "source": [
        "#Train set, 1st experiment, containing DSTC9 train, val, exclude_eval, and kb titles\n",
        "import json\n",
        "import random\n",
        "\n",
        "res = []\n",
        "title_map = {}#we only want unique\n",
        "#First kb titles, all positives\n",
        "for cat in kb:\n",
        "    for elem in kb[cat]:\n",
        "        doc_lst = kb[cat][elem]['docs']\n",
        "        for entry in doc_lst:\n",
        "            if doc_lst[entry]['title'] in title_map:\n",
        "                continue\n",
        "            title_map[doc_lst[entry]['title']] = 1\n",
        "            candidate = {}\n",
        "            candidate['sentence'] = doc_lst[entry]['title']\n",
        "            candidate['label'] = doc_lst[entry]['intent_label']\n",
        "            res.append(candidate)\n",
        "\n",
        "\n",
        "pos_count = len(res)#count positives\n",
        "neg_count = 0\n",
        "log_lst = [log_train, log_val, log_eval]\n",
        "label_lst = [labels_train, labels_val, labels_eval]\n",
        "\n",
        "for x in range(len(log_lst)):\n",
        "    log = log_lst[x]\n",
        "    label = label_lst[x]\n",
        "    for i in range(len(label)):\n",
        "        curr = label[i]\n",
        "        candidate = {}\n",
        "        candidate['sentence'] = log[i][-1]['text']\n",
        "        if candidate['sentence'] in title_map:\n",
        "            continue\n",
        "        else:\n",
        "            title_map[candidate['sentence']] = 1\n",
        "        if curr['target'] == 1:\n",
        "            pos_count += 1\n",
        "            candidate['label'] = curr['knowledge'][0]['cluster_id']\n",
        "            res.append(candidate)\n",
        "print('Final pos# ', pos_count)\n",
        "print('Final neg# ', neg_count)\n",
        "\n",
        "random.shuffle(res)\n",
        "out = open('intent_examples_train1.json', 'w')\n",
        "json.dump(res, out, indent = 4)\n",
        "out.close()"
      ],
      "execution_count": null,
      "outputs": [
        {
          "output_type": "stream",
          "name": "stdout",
          "text": [
            "Final pos#  28206\n",
            "Final neg#  0\n"
          ]
        }
      ]
    },
    {
      "cell_type": "markdown",
      "metadata": {
        "id": "LmfomeOGTXxh"
      },
      "source": [
        "###Exp2: train with kb titles and eval_excluded"
      ]
    },
    {
      "cell_type": "markdown",
      "metadata": {
        "id": "MJ0O5w8LTXxi"
      },
      "source": [
        "Final pos#  11115\n",
        "\n",
        "Final neg#  1991"
      ]
    },
    {
      "cell_type": "code",
      "metadata": {
        "colab": {
          "base_uri": "https://localhost:8080/"
        },
        "id": "g3fnL2X8TXxi",
        "outputId": "1164e929-06e1-429e-df20-558f88fc9a8c"
      },
      "source": [
        "#Train set, 1st experiment, containing DSTC9 train, val, exclude_eval, and kb titles\n",
        "import json\n",
        "import random\n",
        "\n",
        "res = []\n",
        "title_map = {}#we only want unique\n",
        "#First kb titles, all positives\n",
        "for cat in kb:\n",
        "    for elem in kb[cat]:\n",
        "        doc_lst = kb[cat][elem]['docs']\n",
        "        for entry in doc_lst:\n",
        "            if doc_lst[entry]['title'] in title_map:\n",
        "                continue\n",
        "            title_map[doc_lst[entry]['title']] = 1\n",
        "            candidate = {}\n",
        "            candidate['sentence'] = doc_lst[entry]['title']\n",
        "            candidate['label'] = doc_lst[entry]['intent_label']\n",
        "            res.append(candidate)\n",
        "\n",
        "\n",
        "pos_count = len(res)#count positives\n",
        "neg_count = 0\n",
        "log_lst = [log_eval]\n",
        "label_lst = [labels_eval]\n",
        "\n",
        "for x in range(len(log_lst)):\n",
        "    log = log_lst[x]\n",
        "    label = label_lst[x]\n",
        "    for i in range(len(label)):\n",
        "        curr = label[i]\n",
        "        candidate = {}\n",
        "        candidate['sentence'] = log[i][-1]['text']\n",
        "        if candidate['sentence'] in title_map:\n",
        "            continue\n",
        "        else:\n",
        "            title_map[candidate['sentence']] = 1\n",
        "        if curr['target'] == 1:\n",
        "            pos_count += 1\n",
        "            candidate['label'] = curr['knowledge'][0]['cluster_id']\n",
        "            res.append(candidate)\n",
        "print('Final pos# ', pos_count)\n",
        "print('Final neg# ', neg_count)\n",
        "\n",
        "random.shuffle(res)\n",
        "out = open('intent_examples_train2.json', 'w')\n",
        "json.dump(res, out, indent = 4)\n",
        "out.close()"
      ],
      "execution_count": null,
      "outputs": [
        {
          "output_type": "stream",
          "name": "stdout",
          "text": [
            "Final pos#  11115\n",
            "Final neg#  0\n"
          ]
        }
      ]
    },
    {
      "cell_type": "markdown",
      "metadata": {
        "id": "WrOMSKvbRfgc"
      },
      "source": [
        "##Data with 0 cluster"
      ]
    },
    {
      "cell_type": "markdown",
      "metadata": {
        "id": "kWx2XNdwD8xe"
      },
      "source": [
        "### Prepare label files"
      ]
    },
    {
      "cell_type": "code",
      "metadata": {
        "colab": {
          "base_uri": "https://localhost:8080/"
        },
        "id": "KtFHCCrEPerF",
        "outputId": "d9faae7d-e9df-4c71-e060-dc17806becb4"
      },
      "source": [
        "%cd updated_labels\n",
        "!ls -lrt"
      ],
      "execution_count": null,
      "outputs": [
        {
          "name": "stdout",
          "output_type": "stream",
          "text": [
            "/content/drive/My Drive/Research/ner/intent_classifier/updated_labels\n",
            "total 20108\n",
            "-rw------- 1 root root    80772 Aug 12 03:13 updated_DSTC10_track2_task2_labels_phon_templates.json\n",
            "-rw------- 1 root root  2172285 Aug 12 06:44 updated_DSTC9_task1_val_labels_phon_templates.json\n",
            "-rw------- 1 root root 15769778 Aug 12 06:44 updated_DSTC9_task1_train_labels_phon_templates.json\n",
            "-rw------- 1 root root  1586506 Aug 12 06:44 updated_DSTC9_task1_eval_labels_phon_templates.json\n",
            "-rw------- 1 root root    80772 Aug 12 06:44 updated_DSTC10_clean_val_labels.json\n",
            "-rw------- 1 root root   899259 Aug 12 06:44 updated_exclude_labels.json\n"
          ]
        }
      ]
    },
    {
      "cell_type": "code",
      "metadata": {
        "id": "aizma_wrBu_Z"
      },
      "source": [
        "import json\n",
        "\n",
        "def _process_labels(infile):\n",
        "    f1 = open(infile, 'r')\n",
        "    labels = json.load(f1)\n",
        "    f1.close()\n",
        "    \n",
        "    for label in labels:\n",
        "        if label['target'] == 1:\n",
        "            for elem in label['knowledge']:\n",
        "                cluster_id = dic[elem['domain']][str(elem['entity_id'])]['docs'][str(elem['doc_id'])]['intent_label']\n",
        "                elem['cluster_id'] = cluster_id\n",
        "        else:\n",
        "            label['cluster_id'] = 0\n",
        "    new_name = infile.split('/')[-1]\n",
        "    out = open('updated_'+new_name, 'w')\n",
        "    json.dump(labels, out, indent=4)\n",
        "    out.close()"
      ],
      "execution_count": null,
      "outputs": []
    },
    {
      "cell_type": "code",
      "metadata": {
        "id": "uFvNWbaREv0z"
      },
      "source": [
        "_process_labels('/content/drive/MyDrive/Research/ner/DSTC9_task1_val_labels_phon_templates.json')\n",
        "_process_labels('/content/drive/MyDrive/Research/ner/DSTC9_task1_train_labels_phon_templates.json')\n",
        "_process_labels('/content/drive/MyDrive/Research/ner/DSTC9_task1_eval_labels_phon_templates.json')\n",
        "_process_labels('/content/drive/MyDrive/Research/ner/intent_classifier/DSTC10_clean_val_labels.json')"
      ],
      "execution_count": null,
      "outputs": []
    },
    {
      "cell_type": "code",
      "metadata": {
        "id": "mFK38u11OcmP"
      },
      "source": [
        "_process_labels('../exclude_labels.json')"
      ],
      "execution_count": null,
      "outputs": []
    },
    {
      "cell_type": "code",
      "metadata": {
        "colab": {
          "base_uri": "https://localhost:8080/"
        },
        "id": "GcmIVd8yQcJz",
        "outputId": "19487b2e-a133-4a48-fdef-48cf8d481704"
      },
      "source": [
        "!zip updated_labels.zip *.json"
      ],
      "execution_count": null,
      "outputs": [
        {
          "name": "stdout",
          "output_type": "stream",
          "text": [
            "  adding: updated_DSTC10_track2_task2_labels_phon_templates.json (deflated 93%)\n",
            "  adding: updated_DSTC9_task1_eval_labels_phon_templates.json (deflated 91%)\n",
            "  adding: updated_DSTC9_task1_train_labels_phon_templates.json (deflated 93%)\n",
            "  adding: updated_DSTC9_task1_val_labels_phon_templates.json (deflated 93%)\n"
          ]
        }
      ]
    },
    {
      "cell_type": "markdown",
      "metadata": {
        "id": "cfNKQkm_E5Rq"
      },
      "source": [
        "###Load Label files"
      ]
    },
    {
      "cell_type": "code",
      "metadata": {
        "colab": {
          "base_uri": "https://localhost:8080/"
        },
        "id": "fzjyXryuE-8j",
        "outputId": "74fd7c4c-f4b7-48be-b766-efd53462e940"
      },
      "source": [
        "%cd updated_labels"
      ],
      "execution_count": null,
      "outputs": [
        {
          "name": "stdout",
          "output_type": "stream",
          "text": [
            "[Errno 2] No such file or directory: 'updated_labels'\n",
            "/content/drive/My Drive/Research/ner/intent_classifier/updated_labels\n"
          ]
        }
      ]
    },
    {
      "cell_type": "code",
      "metadata": {
        "id": "jy1_xmVAFF47"
      },
      "source": [
        "f1 = open('updated_DSTC9_task1_train_labels_phon_templates.json', 'r')\n",
        "labels_train = json.load(f1)\n",
        "f1.close()\n",
        "\n",
        "f2 = open('updated_DSTC9_task1_val_labels_phon_templates.json', 'r')\n",
        "labels_val = json.load(f2)\n",
        "f2.close()\n",
        "\n",
        "f3 = open('updated_exclude_labels.json', 'r')#if og then it would be cheat\n",
        "labels_eval = json.load(f3)\n",
        "f3.close()\n",
        "\n",
        "f4 = open('updated_DSTC10_clean_val_labels.json', 'r')\n",
        "rlabels_val = json.load(f4)\n",
        "f4.close()\n"
      ],
      "execution_count": null,
      "outputs": []
    },
    {
      "cell_type": "code",
      "metadata": {
        "id": "KT1lKV99ynhE"
      },
      "source": [
        "#OR\n",
        "f1 = open('updated_DSTC9_train_labels.json', 'r')\n",
        "labels_train = json.load(f1)\n",
        "f1.close()\n",
        "\n",
        "f2 = open('updated_DSTC9_val_labels.json', 'r')\n",
        "labels_val = json.load(f2)\n",
        "f2.close()\n",
        "\n",
        "f3 = open('updated_DSTC9_excluded_eval_labels.json', 'r')#if og then it would be cheat\n",
        "labels_eval = json.load(f3)\n",
        "f3.close()\n",
        "\n",
        "f4 = open('updated_DSTC10_clean_val_labels.json', 'r')\n",
        "rlabels_val = json.load(f4)\n",
        "f4.close()"
      ],
      "execution_count": null,
      "outputs": []
    },
    {
      "cell_type": "code",
      "metadata": {
        "colab": {
          "base_uri": "https://localhost:8080/"
        },
        "id": "CxtdcAIeFCj2",
        "outputId": "b2833add-21a8-4599-d854-f9c7d683771f"
      },
      "source": [
        "%cd .."
      ],
      "execution_count": null,
      "outputs": [
        {
          "name": "stdout",
          "output_type": "stream",
          "text": [
            "/content/drive/MyDrive/Research/ner/intent_classifier\n"
          ]
        }
      ]
    },
    {
      "cell_type": "markdown",
      "metadata": {
        "id": "-ZuAGlGGSinn"
      },
      "source": [
        "### Load Log files"
      ]
    },
    {
      "cell_type": "code",
      "metadata": {
        "id": "ACX3bJe3Smbs"
      },
      "source": [
        "f1 = open('/content/drive/MyDrive/Research/ner/huggingface/alexa-with-dstc9-track1-dataset/data/train/logs.json','r')\n",
        "log_train = json.load(f1)\n",
        "f1.close()\n",
        "\n",
        "f2 = open('/content/drive/MyDrive/Research/ner/huggingface/alexa-with-dstc9-track1-dataset/data/val/logs.json','r')\n",
        "log_val = json.load(f2)\n",
        "f2.close()\n",
        "\n",
        "f3 = open('/content/drive/MyDrive/Research/ner/intent_classifier/exclude_template_logs.json','r')#if og then it would be cheat\n",
        "log_eval = json.load(f3)\n",
        "f3.close()\n",
        "\n",
        "f4 = open('/content/drive/MyDrive/Research/ner/intent_classifier/DSTC10_clean_val_logs.json','r')\n",
        "rlog_val = json.load(f4)\n",
        "f4.close()"
      ],
      "execution_count": null,
      "outputs": []
    },
    {
      "cell_type": "markdown",
      "metadata": {
        "id": "FzU4xzhfD0cv"
      },
      "source": [
        "###Generate Examples\n",
        "\n"
      ]
    },
    {
      "cell_type": "markdown",
      "metadata": {
        "id": "Z-pdKKGGYaBK"
      },
      "source": [
        "Final pos#  104\n",
        "\n",
        "Final neg#  159 (for og file)\n",
        "\n",
        "Final pos#  103\n",
        "\n",
        "Final neg#  158 (for clean file)\n"
      ]
    },
    {
      "cell_type": "code",
      "metadata": {
        "colab": {
          "base_uri": "https://localhost:8080/"
        },
        "id": "yRu550WEDu8u",
        "outputId": "76216d94-528a-4ac6-fb8f-9acb7cf68aca"
      },
      "source": [
        "#Val set, specific on DSTC10_val_log\n",
        "import json\n",
        "\n",
        "res = []\n",
        "title_map = {}\n",
        "pos_count = 0\n",
        "neg_count = 0\n",
        "\n",
        "for i in range(len(rlabels_val)):\n",
        "    curr = rlabels_val[i]\n",
        "    candidate = {}\n",
        "    candidate['sentence'] = rlog_val[i][-1]['text']#or 'clean_text'\n",
        "    if candidate['sentence'] in title_map:\n",
        "        continue\n",
        "    else:\n",
        "        title_map[candidate['sentence']] = 1\n",
        "    if curr['target'] == 1:\n",
        "        candidate['label'] = curr['knowledge'][0]['cluster_id']\n",
        "        pos_count += 1\n",
        "    else:\n",
        "        candidate['label'] = 0\n",
        "        neg_count += 1\n",
        "    res.append(candidate)\n",
        "print('Final pos# ', pos_count)\n",
        "print('Final neg# ', neg_count)\n",
        "\n",
        "out_val = open('V2_intent_examples_val.json','w')#Change here as well\n",
        "json.dump(res, out_val, indent = 4)\n",
        "out_val.close()"
      ],
      "execution_count": null,
      "outputs": [
        {
          "output_type": "stream",
          "name": "stdout",
          "text": [
            "Final pos#  103\n",
            "Final neg#  158\n"
          ]
        }
      ]
    },
    {
      "cell_type": "markdown",
      "metadata": {
        "id": "2HN7q47CQdpD"
      },
      "source": [
        "###Exp1: train with kb titles, dstc9 train | val | excluded_eval"
      ]
    },
    {
      "cell_type": "markdown",
      "metadata": {
        "id": "SKhSsQe5QyjZ"
      },
      "source": [
        "Final pos#  28206\n",
        "\n",
        "Final neg#  27998"
      ]
    },
    {
      "cell_type": "code",
      "metadata": {
        "colab": {
          "base_uri": "https://localhost:8080/"
        },
        "id": "KTH9eKaKKms8",
        "outputId": "690644fb-a421-4c36-c6ed-b60eac03a1bb"
      },
      "source": [
        "#Train set, 1st experiment, containing DSTC9 train, val, exclude_eval, and kb titles\n",
        "import json\n",
        "import random\n",
        "\n",
        "res = []\n",
        "title_map = {}#we only want unique\n",
        "#First kb titles, all positives\n",
        "for cat in dic:\n",
        "    for elem in dic[cat]:\n",
        "        doc_lst = dic[cat][elem]['docs']\n",
        "        for entry in doc_lst:\n",
        "            if doc_lst[entry]['title'] in title_map:\n",
        "                continue\n",
        "            title_map[doc_lst[entry]['title']] = 1\n",
        "            candidate = {}\n",
        "            candidate['sentence'] = doc_lst[entry]['title']\n",
        "            candidate['label'] = doc_lst[entry]['intent_label']\n",
        "            res.append(candidate)\n",
        "\n",
        "\n",
        "pos_count = len(res)#count positives\n",
        "neg_count = 0\n",
        "log_lst = [log_train, log_val, log_eval]\n",
        "label_lst = [labels_train, labels_val, labels_eval]\n",
        "\n",
        "for x in range(len(log_lst)):\n",
        "    log = log_lst[x]\n",
        "    label = label_lst[x]\n",
        "    for i in range(len(label)):\n",
        "        curr = label[i]\n",
        "        candidate = {}\n",
        "        candidate['sentence'] = log[i][-1]['text']\n",
        "        if candidate['sentence'] in title_map:\n",
        "            continue\n",
        "        else:\n",
        "            title_map[candidate['sentence']] = 1\n",
        "        if curr['target'] == 1:\n",
        "            pos_count += 1\n",
        "            candidate['label'] = curr['knowledge'][0]['cluster_id']\n",
        "            res.append(candidate)\n",
        "        else:\n",
        "            if neg_count < pos_count:\n",
        "                neg_count += 1\n",
        "                candidate['label'] = 0\n",
        "                res.append(candidate)\n",
        "print('Final pos# ', pos_count)\n",
        "print('Final neg# ', neg_count)\n",
        "\n",
        "random.shuffle(res)\n",
        "out = open('V2_intent_examples_train1.json', 'w')\n",
        "json.dump(res, out, indent = 4)\n",
        "out.close()"
      ],
      "execution_count": null,
      "outputs": [
        {
          "output_type": "stream",
          "name": "stdout",
          "text": [
            "Final pos#  28206\n",
            "Final neg#  27998\n"
          ]
        }
      ]
    },
    {
      "cell_type": "markdown",
      "metadata": {
        "id": "LlWwCaHQQrQz"
      },
      "source": [
        "###Exp2: train with kb titles and eval_excluded"
      ]
    },
    {
      "cell_type": "markdown",
      "metadata": {
        "id": "anQ1Krm8Q-RY"
      },
      "source": [
        "Final pos#  11115\n",
        "\n",
        "Final neg#  1991"
      ]
    },
    {
      "cell_type": "code",
      "metadata": {
        "colab": {
          "base_uri": "https://localhost:8080/"
        },
        "id": "mYCIyQplQqo8",
        "outputId": "34ef5ecc-3eff-412c-ab8e-1446f52dc3f0"
      },
      "source": [
        "#Train set, 1st experiment, containing DSTC9 train, val, exclude_eval, and kb titles\n",
        "import json\n",
        "import random\n",
        "\n",
        "res = []\n",
        "title_map = {}#we only want unique\n",
        "#First kb titles, all positives\n",
        "for cat in dic:\n",
        "    for elem in dic[cat]:\n",
        "        doc_lst = dic[cat][elem]['docs']\n",
        "        for entry in doc_lst:\n",
        "            if doc_lst[entry]['title'] in title_map:\n",
        "                continue\n",
        "            title_map[doc_lst[entry]['title']] = 1\n",
        "            candidate = {}\n",
        "            candidate['sentence'] = doc_lst[entry]['title']\n",
        "            candidate['label'] = doc_lst[entry]['intent_label']\n",
        "            res.append(candidate)\n",
        "\n",
        "\n",
        "pos_count = len(res)#count positives\n",
        "neg_count = 0\n",
        "log_lst = [log_eval]\n",
        "label_lst = [labels_eval]\n",
        "\n",
        "for x in range(len(log_lst)):\n",
        "    log = log_lst[x]\n",
        "    label = label_lst[x]\n",
        "    for i in range(len(label)):\n",
        "        curr = label[i]\n",
        "        candidate = {}\n",
        "        candidate['sentence'] = log[i][-1]['text']\n",
        "        if candidate['sentence'] in title_map:\n",
        "            continue\n",
        "        else:\n",
        "            title_map[candidate['sentence']] = 1\n",
        "        if curr['target'] == 1:\n",
        "            pos_count += 1\n",
        "            candidate['label'] = curr['knowledge'][0]['cluster_id']\n",
        "            res.append(candidate)\n",
        "        else:\n",
        "            if neg_count < pos_count:\n",
        "                neg_count += 1\n",
        "                candidate['label'] = 0\n",
        "                res.append(candidate)\n",
        "print('Final pos# ', pos_count)\n",
        "print('Final neg# ', neg_count)\n",
        "\n",
        "random.shuffle(res)\n",
        "out = open('V2_intent_examples_train2.json', 'w')\n",
        "json.dump(res, out, indent = 4)\n",
        "out.close()"
      ],
      "execution_count": null,
      "outputs": [
        {
          "output_type": "stream",
          "name": "stdout",
          "text": [
            "Final pos#  11115\n",
            "Final neg#  1991\n"
          ]
        }
      ]
    },
    {
      "cell_type": "markdown",
      "metadata": {
        "id": "XPdvcEUyzY0P"
      },
      "source": [
        "##Organizing"
      ]
    },
    {
      "cell_type": "code",
      "metadata": {
        "colab": {
          "base_uri": "https://localhost:8080/"
        },
        "id": "p20KpwFUzYHq",
        "outputId": "3c1590ae-19c2-40cf-adc7-4cf5cc090ad5"
      },
      "source": [
        "!zip V2_intent_examples.zip V2*.json"
      ],
      "execution_count": null,
      "outputs": [
        {
          "output_type": "stream",
          "name": "stdout",
          "text": [
            "  adding: V2_intent_examples_train1.json (deflated 82%)\n",
            "  adding: V2_intent_examples_train2.json (deflated 83%)\n",
            "  adding: V2_intent_examples_val_clean.json (deflated 81%)\n",
            "  adding: V2_intent_examples_val.json (deflated 80%)\n"
          ]
        }
      ]
    },
    {
      "cell_type": "markdown",
      "metadata": {
        "id": "mG4Y6d4_EWQu"
      },
      "source": [
        "# III. Model BT1 (exp1)"
      ]
    },
    {
      "cell_type": "markdown",
      "metadata": {
        "id": "1mXjMwqdEd53"
      },
      "source": [
        "## Initialize"
      ]
    },
    {
      "cell_type": "code",
      "metadata": {
        "colab": {
          "base_uri": "https://localhost:8080/"
        },
        "id": "KMXMRTOUGEvQ",
        "outputId": "c983b118-b070-465c-f8fb-310979926aba"
      },
      "source": [
        "%env HOME=/content/drive/MyDrive\n",
        "%cd ~/Research/ner/intent_classifier/model_env/dstc10_intent_BT1/\n",
        "!ls -lrt"
      ],
      "execution_count": null,
      "outputs": [
        {
          "output_type": "stream",
          "text": [
            "env: HOME=/content/drive/MyDrive\n",
            "/content/drive/MyDrive/Research/ner/intent_classifier/model_env/dstc10_intent_BT1\n",
            "total 428107\n",
            "-rw------- 1 root root      6148 Aug 11 17:49 config.json\n",
            "-rw------- 1 root root 438374583 Aug 11 17:49 pytorch_model.bin\n"
          ],
          "name": "stdout"
        }
      ]
    },
    {
      "cell_type": "code",
      "metadata": {
        "id": "-bblW2BIW1Ku"
      },
      "source": [
        "import torch\n",
        "\n",
        "model_name = \"bert-base-uncased\"\n",
        "batch_size = 32\n",
        "device = torch.device(\"cuda\" if torch.cuda.is_available() else \"cpu\")"
      ],
      "execution_count": null,
      "outputs": []
    },
    {
      "cell_type": "code",
      "metadata": {
        "id": "PGbDiPcaEb-f",
        "colab": {
          "base_uri": "https://localhost:8080/"
        },
        "outputId": "6a4de996-2953-4be9-fcfa-069c29581410"
      },
      "source": [
        "!pip install transformers"
      ],
      "execution_count": null,
      "outputs": [
        {
          "output_type": "stream",
          "text": [
            "Collecting transformers\n",
            "  Using cached transformers-4.9.2-py3-none-any.whl (2.6 MB)\n",
            "Requirement already satisfied: importlib-metadata in /usr/local/lib/python3.7/dist-packages (from transformers) (4.6.4)\n",
            "Requirement already satisfied: requests in /usr/local/lib/python3.7/dist-packages (from transformers) (2.23.0)\n",
            "Requirement already satisfied: regex!=2019.12.17 in /usr/local/lib/python3.7/dist-packages (from transformers) (2019.12.20)\n",
            "Collecting huggingface-hub==0.0.12\n",
            "  Using cached huggingface_hub-0.0.12-py3-none-any.whl (37 kB)\n",
            "Requirement already satisfied: filelock in /usr/local/lib/python3.7/dist-packages (from transformers) (3.0.12)\n",
            "Requirement already satisfied: numpy>=1.17 in /usr/local/lib/python3.7/dist-packages (from transformers) (1.19.5)\n",
            "Requirement already satisfied: packaging in /usr/local/lib/python3.7/dist-packages (from transformers) (21.0)\n",
            "Requirement already satisfied: tqdm>=4.27 in /usr/local/lib/python3.7/dist-packages (from transformers) (4.62.0)\n",
            "Collecting tokenizers<0.11,>=0.10.1\n",
            "  Using cached tokenizers-0.10.3-cp37-cp37m-manylinux_2_5_x86_64.manylinux1_x86_64.manylinux_2_12_x86_64.manylinux2010_x86_64.whl (3.3 MB)\n",
            "Collecting sacremoses\n",
            "  Using cached sacremoses-0.0.45-py3-none-any.whl (895 kB)\n",
            "Collecting pyyaml>=5.1\n",
            "  Using cached PyYAML-5.4.1-cp37-cp37m-manylinux1_x86_64.whl (636 kB)\n",
            "Requirement already satisfied: typing-extensions in /usr/local/lib/python3.7/dist-packages (from huggingface-hub==0.0.12->transformers) (3.7.4.3)\n",
            "Requirement already satisfied: pyparsing>=2.0.2 in /usr/local/lib/python3.7/dist-packages (from packaging->transformers) (2.4.7)\n",
            "Requirement already satisfied: zipp>=0.5 in /usr/local/lib/python3.7/dist-packages (from importlib-metadata->transformers) (3.5.0)\n",
            "Requirement already satisfied: certifi>=2017.4.17 in /usr/local/lib/python3.7/dist-packages (from requests->transformers) (2021.5.30)\n",
            "Requirement already satisfied: chardet<4,>=3.0.2 in /usr/local/lib/python3.7/dist-packages (from requests->transformers) (3.0.4)\n",
            "Requirement already satisfied: idna<3,>=2.5 in /usr/local/lib/python3.7/dist-packages (from requests->transformers) (2.10)\n",
            "Requirement already satisfied: urllib3!=1.25.0,!=1.25.1,<1.26,>=1.21.1 in /usr/local/lib/python3.7/dist-packages (from requests->transformers) (1.24.3)\n",
            "Requirement already satisfied: joblib in /usr/local/lib/python3.7/dist-packages (from sacremoses->transformers) (1.0.1)\n",
            "Requirement already satisfied: click in /usr/local/lib/python3.7/dist-packages (from sacremoses->transformers) (7.1.2)\n",
            "Requirement already satisfied: six in /usr/local/lib/python3.7/dist-packages (from sacremoses->transformers) (1.15.0)\n",
            "Installing collected packages: tokenizers, sacremoses, pyyaml, huggingface-hub, transformers\n",
            "  Attempting uninstall: pyyaml\n",
            "    Found existing installation: PyYAML 3.13\n",
            "    Uninstalling PyYAML-3.13:\n",
            "      Successfully uninstalled PyYAML-3.13\n",
            "Successfully installed huggingface-hub-0.0.12 pyyaml-5.4.1 sacremoses-0.0.45 tokenizers-0.10.3 transformers-4.9.2\n"
          ],
          "name": "stdout"
        }
      ]
    },
    {
      "cell_type": "code",
      "metadata": {
        "id": "A1RTtu_va66N"
      },
      "source": [
        "#Loading Tokenizer, Config, and Model from drive\n",
        "from transformers import AutoConfig, AutoTokenizer, AutoModel, AutoModelForSequenceClassification\n",
        "\n",
        "model_name = \"bert-base-uncased\"\n",
        "\n",
        "config = AutoConfig.from_pretrained(model_name)\n",
        "tokenizer = AutoTokenizer.from_pretrained(model_name, use_fast=True, padding = True, truncation = True)\n",
        "#model = AutoModel.from_pretrained(\"./glue_model\")\n",
        "model = AutoModelForSequenceClassification.from_pretrained(\".\")\n",
        "\n",
        "# Set device\n",
        "model.to(device)"
      ],
      "execution_count": null,
      "outputs": []
    },
    {
      "cell_type": "code",
      "metadata": {
        "colab": {
          "base_uri": "https://localhost:8080/"
        },
        "id": "rTSsxpxJbbJP",
        "outputId": "c384f095-6737-421b-900d-74b27b5f256c"
      },
      "source": [
        "#Checks for dict weight\n",
        "state_dict = model.state_dict()\n",
        "state_dict[\"bert.embeddings.word_embeddings.weight\"]"
      ],
      "execution_count": null,
      "outputs": [
        {
          "output_type": "execute_result",
          "data": {
            "text/plain": [
              "tensor([[-0.0102, -0.0615, -0.0265,  ..., -0.0199, -0.0372, -0.0098],\n",
              "        [-0.0117, -0.0600, -0.0323,  ..., -0.0168, -0.0401, -0.0107],\n",
              "        [-0.0198, -0.0627, -0.0326,  ..., -0.0165, -0.0420, -0.0032],\n",
              "        ...,\n",
              "        [-0.0218, -0.0556, -0.0135,  ..., -0.0043, -0.0151, -0.0249],\n",
              "        [-0.0462, -0.0565, -0.0019,  ...,  0.0157, -0.0139, -0.0095],\n",
              "        [ 0.0015, -0.0821, -0.0160,  ..., -0.0081, -0.0475,  0.0753]],\n",
              "       device='cuda:0')"
            ]
          },
          "metadata": {},
          "execution_count": 9
        }
      ]
    },
    {
      "cell_type": "markdown",
      "metadata": {
        "id": "V7ZIjuyAG_Tu"
      },
      "source": [
        "## Simple Testing"
      ]
    },
    {
      "cell_type": "code",
      "metadata": {
        "id": "LAL0AT2nbhiW"
      },
      "source": [
        "def _single_test(pair):\n",
        "    result = tokenizer(pair, return_tensors=\"pt\")\n",
        "    result.to(device)\n",
        "    model.eval()\n",
        "    outputs = model(**result)\n",
        "    #print(\"Output Dictionary Keys:\\n\", outputs.keys(),end='\\n\\n')\n",
        "    #print(\"Sequence Logits:\\n\",outputs,end='\\n\\n')\n",
        "    predictions = torch.topk(outputs.logits,3)\n",
        "    #print('Preditions:\\n',predictions,end='\\n\\n')\n",
        "    #print(predictions)\n",
        "    torch.cuda.empty_cache()\n",
        "    return predictions"
      ],
      "execution_count": null,
      "outputs": []
    },
    {
      "cell_type": "code",
      "metadata": {
        "colab": {
          "base_uri": "https://localhost:8080/"
        },
        "id": "E_Kw-0XbG54b",
        "outputId": "fb1fe31b-4474-47fa-df79-bb03d3e49b93"
      },
      "source": [
        "#Try test sets here\n",
        "sentence = \"What is the length of the ride?\"#\"When can I check-in?\"\n",
        "pair = [sentence]\n",
        "res = _single_test(pair)\n",
        "#print(_single_test(pair))\n",
        "int(res[1][0][0])\n"
      ],
      "execution_count": null,
      "outputs": [
        {
          "output_type": "execute_result",
          "data": {
            "text/plain": [
              "0"
            ]
          },
          "metadata": {},
          "execution_count": 14
        }
      ]
    },
    {
      "cell_type": "markdown",
      "metadata": {
        "id": "YsUGc_wmH8Wj"
      },
      "source": [
        "## Output New Label Field"
      ]
    },
    {
      "cell_type": "code",
      "metadata": {
        "colab": {
          "base_uri": "https://localhost:8080/"
        },
        "id": "ljVkmK16KP6Y",
        "outputId": "8e30fc10-aae5-4fca-df59-e7595a5afa15"
      },
      "source": [
        "%cd ~/Research/ner/intent_classifier/model_updated_labels/"
      ],
      "execution_count": null,
      "outputs": [
        {
          "name": "stdout",
          "output_type": "stream",
          "text": [
            "/content/drive/MyDrive/Research/ner/intent_classifier/model_updated_labels\n"
          ]
        }
      ]
    },
    {
      "cell_type": "markdown",
      "metadata": {
        "id": "NizYzRGCMAVX"
      },
      "source": [
        "### Method and initialize logs/updated_labels"
      ]
    },
    {
      "cell_type": "code",
      "metadata": {
        "id": "uXc_PlDZH_K3"
      },
      "source": [
        "def _model_process_labels(labels, log, n):\n",
        "    oops = 0\n",
        "    for i in range(len(labels)):\n",
        "        label = labels[i]\n",
        "        pred = (int(_single_test([log[i][-1]['text']])))#or clean_text?\n",
        "        if label['target'] == 1:\n",
        "            for elem in label['knowledge']:\n",
        "                elem['pred_cluster_id'] = pred\n",
        "                if pred != elem['cluster_id']:\n",
        "                    oops += 1\n",
        "        else:\n",
        "            label['pred_cluster_id'] = pred\n",
        "            if pred!= 0:\n",
        "                oops += 1\n",
        "\n",
        "    out = open('model_'+str(n)+'.json', 'w')\n",
        "    json.dump(labels, out, indent=4)\n",
        "    out.close()\n",
        "    print('# of Wrong predictions: ', oops)"
      ],
      "execution_count": null,
      "outputs": []
    },
    {
      "cell_type": "code",
      "metadata": {
        "id": "iWmoo5J3MNz9"
      },
      "source": [
        "#Logs\n",
        "import json\n",
        "\n",
        "f1 = open('/content/drive/MyDrive/Research/ner/huggingface/alexa-with-dstc9-track1-dataset/data/train/logs.json','r')\n",
        "log_train = json.load(f1)\n",
        "f1.close()\n",
        "\n",
        "f2 = open('/content/drive/MyDrive/Research/ner/huggingface/alexa-with-dstc9-track1-dataset/data/val/logs.json','r')\n",
        "log_val = json.load(f2)\n",
        "f2.close()\n",
        "\n",
        "f3 = open('/content/drive/MyDrive/Research/ner/intent_classifier/exclude_template_logs.json','r')#if og then it would be cheat\n",
        "log_eval = json.load(f3)\n",
        "f3.close()\n",
        "\n",
        "f4 = open('/content/drive/MyDrive/Research/ner/intent_classifier/DSTC10_clean_val_logs.json','r')\n",
        "rlog_val = json.load(f4)\n",
        "f4.close()"
      ],
      "execution_count": null,
      "outputs": []
    },
    {
      "cell_type": "code",
      "metadata": {
        "id": "mH0z11uMNTgU"
      },
      "source": [
        "#Labels\n",
        "import json\n",
        "\n",
        "dir = '../updated_labels/'\n",
        "\n",
        "f1 = open(dir+'updated_DSTC9_task1_train_labels_phon_templates.json', 'r')\n",
        "labels_train = json.load(f1)\n",
        "f1.close()\n",
        "\n",
        "f2 = open(dir+'updated_DSTC9_task1_val_labels_phon_templates.json', 'r')\n",
        "labels_val = json.load(f2)\n",
        "f2.close()\n",
        "\n",
        "f3 = open(dir+'updated_exclude_labels.json', 'r')#if og then it would be cheat\n",
        "labels_eval = json.load(f3)\n",
        "f3.close()\n",
        "\n",
        "f4 = open(dir+'/content/drive/MyDrive/Research/ner/intent_classifier/DSTC10_clean_val_labels.json', 'r')\n",
        "rlabels_val = json.load(f4)\n",
        "f4.close()\n"
      ],
      "execution_count": null,
      "outputs": []
    },
    {
      "cell_type": "markdown",
      "metadata": {
        "id": "iddCs9B5MEKK"
      },
      "source": [
        "### Execute"
      ]
    },
    {
      "cell_type": "code",
      "metadata": {
        "colab": {
          "base_uri": "https://localhost:8080/"
        },
        "id": "Z86BFyslK4Lc",
        "outputId": "f9eb7422-d94a-4e8a-8446-3658007ec738"
      },
      "source": [
        "import json\n",
        "\n",
        "label_lst = [labels_train, labels_val, labels_eval, rlabels_val]\n",
        "log_lst = [log_train, log_val, log_eval, rlog_val]\n",
        "\n",
        "for i in range(len(label_lst)):\n",
        "    print('Now: ', i)\n",
        "    _model_process_labels(label_lst[i], log_lst[i], i)\n",
        "\n",
        "\n"
      ],
      "execution_count": null,
      "outputs": [
        {
          "name": "stdout",
          "output_type": "stream",
          "text": [
            "Now:  0\n",
            "# of Wrong predictions:  452\n",
            "Now:  1\n",
            "# of Wrong predictions:  50\n",
            "Now:  2\n",
            "# of Wrong predictions:  61\n",
            "Now:  3\n",
            "# of Wrong predictions:  23\n"
          ]
        }
      ]
    },
    {
      "cell_type": "markdown",
      "metadata": {
        "id": "hO4JfnJyJI0x"
      },
      "source": [
        "#Final"
      ]
    },
    {
      "cell_type": "code",
      "metadata": {
        "colab": {
          "base_uri": "https://localhost:8080/"
        },
        "id": "qIn0OUIHJHnu",
        "outputId": "0e6ead83-3664-4eb9-e6d9-af74ba17cec7"
      },
      "source": [
        "%cd final_result"
      ],
      "execution_count": null,
      "outputs": [
        {
          "output_type": "stream",
          "name": "stdout",
          "text": [
            "/content/drive/MyDrive/Research/ner/intent_classifier/final_result\n"
          ]
        }
      ]
    },
    {
      "cell_type": "code",
      "metadata": {
        "id": "j-_zzQHlJWFP"
      },
      "source": [
        "!cp /content/drive/MyDrive/Research/ner/text_classifier/final_results/kb_eval_final.json kb_eval_final.json"
      ],
      "execution_count": null,
      "outputs": []
    },
    {
      "cell_type": "code",
      "metadata": {
        "id": "PFR0-lkDKC--"
      },
      "source": [
        "import json\n",
        "\n",
        "f1 = open('/content/drive/MyDrive/Research/ner/huggingface/alexa-with-dstc9-track1-dataset/data/train/labels.json','r')\n",
        "labels_train = json.load(f1)\n",
        "f1.close()\n",
        "\n",
        "f2 = open('/content/drive/MyDrive/Research/ner/huggingface/alexa-with-dstc9-track1-dataset/data/val/labels.json','r')\n",
        "labels_val = json.load(f2)\n",
        "f2.close()\n",
        "\n",
        "f3 = open('/content/drive/MyDrive/Research/ner/intent_classifier/exclude_labels.json','r')\n",
        "labels_eval = json.load(f3)\n",
        "f3.close()\n",
        "\n",
        "f4 = open('/content/drive/MyDrive/Research/ner/intent_classifier/DSTC10_clean_val_labels.json','r')\n",
        "rlabels_val = json.load(f4)\n",
        "f4.close()"
      ],
      "execution_count": null,
      "outputs": []
    },
    {
      "cell_type": "code",
      "metadata": {
        "id": "45gYq9StLxDU"
      },
      "source": [
        "#Logs\n",
        "import json\n",
        "\n",
        "f1 = open('/content/drive/MyDrive/Research/ner/huggingface/alexa-with-dstc9-track1-dataset/data/train/logs.json','r')\n",
        "log_train = json.load(f1)\n",
        "f1.close()\n",
        "\n",
        "f2 = open('/content/drive/MyDrive/Research/ner/huggingface/alexa-with-dstc9-track1-dataset/data/val/logs.json','r')\n",
        "log_val = json.load(f2)\n",
        "f2.close()\n",
        "\n",
        "f3 = open('/content/drive/MyDrive/Research/ner/intent_classifier/exclude_template_logs.json','r')#if og then it would be cheat\n",
        "log_eval = json.load(f3)\n",
        "f3.close()\n",
        "\n",
        "f4 = open('/content/drive/MyDrive/Research/ner/intent_classifier/DSTC10_clean_val_logs.json','r')\n",
        "rlog_val = json.load(f4)\n",
        "f4.close()"
      ],
      "execution_count": null,
      "outputs": []
    },
    {
      "cell_type": "code",
      "metadata": {
        "id": "7uAhE68aLrJO"
      },
      "source": [
        "label_lst = [labels_train, labels_val, labels_eval, rlabels_val]\n",
        "log_lst = [log_train, log_val, log_eval, rlog_val]\n",
        "outnames = ['updated_DSTC9_train_labels.json',\n",
        "            'updated_DSTC9_val_labels.json',\n",
        "            'updated_DSTC9_excluded_eval_labels.json',\n",
        "            'updated_DSTC10_clean_val_labels.json',\n",
        "            \n",
        "]\n",
        "ff = open('kb_eval_final.json','r')\n",
        "kb = json.load(ff)\n",
        "ff.close()\n",
        "\n",
        "\n",
        "for i in range(len(label_lst)):\n",
        "    print('Processing ', i)\n",
        "    label = label_lst[i]\n",
        "    for j in range(len(label)):\n",
        "        entry = label[j]\n",
        "        if entry['target'] == True:\n",
        "            domain = str(entry['knowledge'][0]['domain'])\n",
        "            en_id = str(entry['knowledge'][0]['entity_id'])\n",
        "            doc_id = str(entry['knowledge'][0]['doc_id'])\n",
        "            print(domain,en_id,doc_id,sep = '\\t')\n",
        "            cluster_id = kb[domain][en_id]['docs'][doc_id]['intent_label']\n",
        "            entry['knowledge'][0]['cluster_id'] = cluster_id\n",
        "    f = open(outnames[i],'w')\n",
        "    json.dump(label, f, indent=4)\n",
        "    f.close()\n",
        "            "
      ],
      "execution_count": null,
      "outputs": []
    },
    {
      "cell_type": "code",
      "metadata": {
        "colab": {
          "base_uri": "https://localhost:8080/"
        },
        "id": "MAL1iTgZS8E1",
        "outputId": "7f6c2d11-c3af-4414-d8f0-6eba2ac15b1a"
      },
      "source": [
        "!zip updated_labels_wkb.zip *labels.json kb_eval_final.json"
      ],
      "execution_count": null,
      "outputs": [
        {
          "output_type": "stream",
          "name": "stdout",
          "text": [
            "updating: kb_eval_final.json (deflated 92%)\n",
            "updating: updated_DSTC10_clean_val_labels.json (deflated 93%)\n",
            "updating: updated_DSTC9_excluded_eval_labels.json (deflated 90%)\n",
            "updating: updated_DSTC9_train_labels.json (deflated 92%)\n",
            "updating: updated_DSTC9_val_labels.json (deflated 92%)\n"
          ]
        }
      ]
    },
    {
      "cell_type": "markdown",
      "metadata": {
        "id": "-yMYUTdDdXzc"
      },
      "source": [
        "# Others"
      ]
    },
    {
      "cell_type": "code",
      "metadata": {
        "colab": {
          "base_uri": "https://localhost:8080/"
        },
        "id": "p073hTiWdbAM",
        "outputId": "bfc18f38-1816-46bf-c91b-227b358b5fe1"
      },
      "source": [
        "!ls -lrt\n",
        "!pwd"
      ],
      "execution_count": null,
      "outputs": [
        {
          "output_type": "stream",
          "name": "stdout",
          "text": [
            "total 38716\n",
            "-rw------- 1 root root 13121130 Aug 31 22:18 kb_eval_final.json\n",
            "-rw------- 1 root root  8636219 Aug 31 22:19 updated_DSTC9_train_labels.json\n",
            "-rw------- 1 root root  1191914 Aug 31 22:19 updated_DSTC9_val_labels.json\n",
            "-rw------- 1 root root   848616 Aug 31 22:19 updated_DSTC9_excluded_eval_labels.json\n",
            "-rw------- 1 root root    76794 Aug 31 22:19 updated_DSTC10_clean_val_labels.json\n",
            "-rw------- 1 root root  1883004 Aug 31 22:20 updated_labels_wkb.zip\n",
            "-rw------- 1 root root    11998 Aug 31 22:22 intent_examples_val.json\n",
            "-rw------- 1 root root  3020592 Aug 31 22:22 intent_examples_train1.json\n",
            "-rw------- 1 root root    12071 Aug 31 22:23 intent_examples_val_clean.json\n",
            "-rw------- 1 root root   672102 Aug 31 22:23 intent_examples.zip\n",
            "-rw------- 1 root root    33326 Sep  1 00:39 V2_intent_examples_val.json\n",
            "-rw------- 1 root root  6313393 Sep  1 00:39 V2_intent_examples_train1.json\n",
            "-rw------- 1 root root  1331766 Sep  1 00:40 V2_intent_examples_train2.json\n",
            "-rw------- 1 root root  1108662 Sep  1 00:40 intent_examples_train2.json\n",
            "-rw------- 1 root root    33620 Sep  1 00:40 V2_intent_examples_val_clean.json\n",
            "-rw------- 1 root root  1345831 Sep  1 00:42 V2_intent_examples.zip\n",
            "/content/drive/My Drive/Research/ner/intent_classifier/final_result\n"
          ]
        }
      ]
    }
  ]
}