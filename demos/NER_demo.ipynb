{
  "nbformat": 4,
  "nbformat_minor": 0,
  "metadata": {
    "colab": {
      "provenance": []
    },
    "kernelspec": {
      "name": "python3",
      "display_name": "Python 3"
    },
    "language_info": {
      "name": "python"
    }
  },
  "cells": [
    {
      "cell_type": "markdown",
      "source": [
        "# Named Entity Recognition #\n",
        "Methods developed for various template generation. To begin the demo please run the commands below to clone the repository.\n",
        "\n",
        "For DSTC10 information, please visit: https://dstc10.dstc.community/tracks\n",
        "\n",
        "For track2 dataset, please visit: https://github.com/alexa/alexa-with-dstc10-track2-dataset"
      ],
      "metadata": {
        "id": "WTCe4HLVjtA_"
      }
    },
    {
      "cell_type": "code",
      "source": [
        "!git clone  #"
      ],
      "metadata": {
        "id": "HIWepOtUlB1y"
      },
      "execution_count": null,
      "outputs": []
    },
    {
      "cell_type": "code",
      "source": [
        "!pip install -r requirements.txt"
      ],
      "metadata": {
        "id": "l7GvlavDMTRw"
      },
      "execution_count": null,
      "outputs": []
    },
    {
      "cell_type": "markdown",
      "source": [
        "### Baby Trie ###\n",
        "Baby Trie is a trie data structure built for named entity recognition. It is built using a tree structure and with a given knowledge base. After intialization, the trie takes in a loaded json file as argument to create its tree structure. \n",
        "\n",
        "We define an entity $P$ with word length $n$. To insert an entity into the trie, we create a child node to the root containing $P[0]$, the first word. We then traverse down to that node and create another child node $P[1]$. This is repeated until $P[n-1]$ is inserted.\n",
        "\n",
        "\n",
        "\n",
        "*Note the Baby Trie stucture is programmed for DSTC datasets. See track 2 dataset for knowledge base file.*"
      ],
      "metadata": {
        "id": "c17cs46ekLal"
      }
    },
    {
      "cell_type": "code",
      "execution_count": null,
      "metadata": {
        "id": "quozEhsYjrok"
      },
      "outputs": [],
      "source": [
        "# Load our json knowledge base file into a dictionary\n",
        "import json\n",
        "\n",
        "knowledge_base=open('../resources/knowledge.json','r')\n",
        "dic=json.load(knowledge_base)\n",
        "knowledge_base.close()"
      ]
    },
    {
      "cell_type": "code",
      "source": [
        "# Build trie from loaded json file\n",
        "from BabyTrie import BabyTrie\n",
        "\n",
        "trie = BabyTrie()\n",
        "trie.initialize(dic)\n",
        "\n",
        "# List of all possible first match, P[0]s\n",
        "trie.root.children"
      ],
      "metadata": {
        "id": "inc4WExIRa_P"
      },
      "execution_count": null,
      "outputs": []
    },
    {
      "cell_type": "markdown",
      "source": [
        "We distinguish if something has a complete match by determining if they are a leaf or not. If a given query has multiple names matched within a range of index, the trie would recognize all of them, but return the longest matched."
      ],
      "metadata": {
        "id": "lR-YCoRvUjPc"
      }
    },
    {
      "cell_type": "code",
      "source": [
        "# Demonstration, A and B Guest House is a restaurant name\n",
        "query = \"Can I bring my pet to A and B Guest House?\"\n",
        "\n",
        "template, mapping = gettemplate_wmap(trie, query)\n",
        "\n",
        "print(\"Original input query:\\t{q}\\nGenerated template:\\t{t}\\nGenerated mapping:\\t{m}\".format(q=query,t=template,m=mapping))"
      ],
      "metadata": {
        "colab": {
          "base_uri": "https://localhost:8080/"
        },
        "id": "E35FLf4jU-vq",
        "outputId": "bf79bb17-cd24-4488-f85b-b05a8c661041"
      },
      "execution_count": null,
      "outputs": [
        {
          "output_type": "stream",
          "name": "stdout",
          "text": [
            "Original input query:\tCan I bring my pet to A and B Guest House?\n",
            "Generated template:\tCan I bring my pet to <hotel-0>?\n",
            "Generated mapping:\t{'<hotel-0>': 'A and B Guest House'}\n"
          ]
        }
      ]
    },
    {
      "cell_type": "code",
      "source": [
        "# Demonstration, Pier 39 is an attraction name\n",
        "query = \"Are there restrictions for pier thirty nine?\"\n",
        "\n",
        "template, mapping = gettemplate_wmap(trie, query)\n",
        "\n",
        "print(\"Original input query:\\t{q}\\nGenerated template:\\t{t}\\nGenerated mapping:\\t{m}\".format(q=query,t=template,m=mapping))"
      ],
      "metadata": {
        "colab": {
          "base_uri": "https://localhost:8080/"
        },
        "id": "BDGPVKcF_589",
        "outputId": "8476fc44-03f6-4a77-9ea6-cec373def783"
      },
      "execution_count": null,
      "outputs": [
        {
          "output_type": "stream",
          "name": "stdout",
          "text": [
            "Original input query:\tAre there restrictions for pier thirty nine?\n",
            "Generated template:\tAre there restrictions for <attraction-100123>?\n",
            "Generated mapping:\t{'<attraction-100123>': 'pier thirty nine'}\n"
          ]
        }
      ]
    },
    {
      "cell_type": "code",
      "source": [
        "# If a chained restaurant is given, the trie matches differently, appending all possible chained entities.\n",
        "query = \"What food is offered at Rooster and rice?\"\n",
        "\n",
        "template, mapping = gettemplate_wmap(trie, query)\n",
        "\n",
        "print(\"Original input query:\\t{q}\\nGenerated template:\\t{t}\\nGenerated mapping:\\t{m}\".format(q=query,t=template,m=mapping))"
      ],
      "metadata": {
        "colab": {
          "base_uri": "https://localhost:8080/"
        },
        "id": "om5pftSCWrLJ",
        "outputId": "22a022e2-447a-4766-fc5a-5d2ffd2f37c7"
      },
      "execution_count": null,
      "outputs": [
        {
          "output_type": "stream",
          "name": "stdout",
          "text": [
            "Original input query:\tWhat food is offered at Rooster and rice?\n",
            "Generated template:\tWhat food is offered at <restaurant-120353|120354|120355|120356|120357>?\n",
            "Generated mapping:\t{'<restaurant-120353|120354|120355|120356|120357>': 'Rooster and rice'}\n"
          ]
        }
      ]
    },
    {
      "cell_type": "markdown",
      "source": [
        "### Performance ###\n",
        "As noticed, the trie can match Pier 39 with pier thirty nine. The trie uses num2words and a custom converttext2num function to generate all permutations of the entity and insert them all into the trie.\n",
        "\n",
        "This is important as ASR queries contain only pronunciated words, but the knowledge base represents them as numbers."
      ],
      "metadata": {
        "id": "7fKiI4LHAwr2"
      }
    },
    {
      "cell_type": "markdown",
      "source": [
        "Another feature added was Damerau Levenshtein matching. \n",
        "\n",
        "After data analysis, a common mismatch happens due to noise in a query. Example:\n",
        "\n",
        "*There is boudin ba bakery and cafe.*\n",
        "\n",
        "Most likely, the speaker stuttered \"ba\". As the way traditional trie structures are, they match in a reserved manner. However, in this context, we want our trie to allow some noise to *pass-through* and match an entity.\n",
        "\n",
        "We introduce the damerau levenshtein distance matching. It is a string metric for measuring the edit distance between two sequences. To put it simply, the DL-distance between two words is the minimum number of operations (consisting of insertions, deletions, or substitutions of a single character, or transposition of two adjacent characters) required to change one word into the other.\n",
        "\n",
        "Read more about it here: https://en.wikipedia.org/wiki/Damerau%E2%80%93Levenshtein_distance\n"
      ],
      "metadata": {
        "id": "_NytnG7fBrEO"
      }
    },
    {
      "cell_type": "code",
      "source": [
        "# The fastDamerau-Levenshtein offers flexible matching.\n",
        "query = \"There is boudin ba bakery and cafe.\"\n",
        "\n",
        "template, mapping = gettemplate_wmap(trie, query)\n",
        "\n",
        "print(\"Original input query:\\t{q}\\nGenerated template:\\t{t}\\nGenerated mapping:\\t{m}\".format(q=query,t=template,m=mapping))"
      ],
      "metadata": {
        "colab": {
          "base_uri": "https://localhost:8080/"
        },
        "outputId": "d5db3183-0b9c-4312-82c5-1d2ae48f3eb9",
        "id": "8ApVe8idGYvZ"
      },
      "execution_count": null,
      "outputs": [
        {
          "output_type": "stream",
          "name": "stdout",
          "text": [
            "Original input query:\tThere is boudin ba bakery and cafe.\n",
            "Generated template:\tThere is <restaurant-120053>.\n",
            "Generated mapping:\t{'<restaurant-120053>': 'boudin ba bakery and cafe'}\n"
          ]
        }
      ]
    },
    {
      "cell_type": "markdown",
      "source": [
        "Below are some other examples."
      ],
      "metadata": {
        "id": "SObFTvleGvXn"
      }
    },
    {
      "cell_type": "code",
      "source": [
        "# Knowledge Base entity: S. W. hotel\n",
        "query = \"Can you give me the direction for sw hotel?\"\n",
        "\n",
        "template, mapping = gettemplate_wmap(trie, query)\n",
        "\n",
        "print(\"Original input query:\\t{q}\\nGenerated template:\\t{t}\\nGenerated mapping:\\t{m}\".format(q=query,t=template,m=mapping))"
      ],
      "metadata": {
        "colab": {
          "base_uri": "https://localhost:8080/"
        },
        "outputId": "65706329-edd0-46ec-e85b-763ddcc869cc",
        "id": "lPvQX0juG0WO"
      },
      "execution_count": null,
      "outputs": [
        {
          "output_type": "stream",
          "name": "stdout",
          "text": [
            "Original input query:\tCan you give me the direction for sw hotel?\n",
            "Generated template:\tCan you give me the direction for <hotel-110167>?\n",
            "Generated mapping:\t{'<hotel-110167>': 'sw hotel'}\n"
          ]
        }
      ]
    },
    {
      "cell_type": "code",
      "source": [
        "# Knowledge Base entity: Saigon City\n",
        "query = \"I need to make a reservation for siagon city.\"\n",
        "\n",
        "template, mapping = gettemplate_wmap(trie, query)\n",
        "\n",
        "print(\"Original input query:\\t{q}\\nGenerated template:\\t{t}\\nGenerated mapping:\\t{m}\".format(q=query,t=template,m=mapping))"
      ],
      "metadata": {
        "colab": {
          "base_uri": "https://localhost:8080/"
        },
        "outputId": "7ae93203-7740-4776-89ef-06114306e26f",
        "id": "ommTPBhIHC0C"
      },
      "execution_count": null,
      "outputs": [
        {
          "output_type": "stream",
          "name": "stdout",
          "text": [
            "Original input query:\tI need to make a reservation for siagon city.\n",
            "Generated template:\tI need to make a reservation for <restaurant-19261>.\n",
            "Generated mapping:\t{'<restaurant-19261>': 'siagon city'}\n"
          ]
        }
      ]
    },
    {
      "cell_type": "markdown",
      "source": [
        "Other methods implemented include:\n",
        "* disfluency removal\n",
        "* restricted insertion (for area mismatches)\n",
        "* phonetic conversion (for error correction on query and elasticsearch)"
      ],
      "metadata": {
        "id": "ki5MK6l2H_fx"
      }
    }
  ]
}